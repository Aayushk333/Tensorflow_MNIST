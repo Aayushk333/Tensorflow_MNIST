{
 "cells": [
  {
   "cell_type": "code",
   "execution_count": null,
   "metadata": {
    "colab": {},
    "colab_type": "code",
    "id": "Nuvw_jtWxayZ"
   },
   "outputs": [],
   "source": [
    "import tensorflow as tf"
   ]
  },
  {
   "cell_type": "code",
   "execution_count": null,
   "metadata": {
    "colab": {},
    "colab_type": "code",
    "id": "Om4NIKiJxfCj"
   },
   "outputs": [],
   "source": [
    "import matplotlib.pyplot as plt"
   ]
  },
  {
   "cell_type": "code",
   "execution_count": null,
   "metadata": {
    "colab": {},
    "colab_type": "code",
    "id": "YkLVA-6dx1aD"
   },
   "outputs": [],
   "source": [
    "from tensorflow.examples.tutorials.mnist import input_data"
   ]
  },
  {
   "cell_type": "code",
   "execution_count": 3,
   "metadata": {
    "colab": {
     "base_uri": "https://localhost:8080/",
     "height": 55
    },
    "colab_type": "code",
    "id": "QHNoQerJx3CC",
    "outputId": "92e36b18-8d0b-426a-cc10-0a29bb218be9"
   },
   "outputs": [
    {
     "data": {
      "text/plain": [
       "<module 'tensorflow.examples.tutorials.mnist.input_data' from '/usr/local/lib/python3.6/dist-packages/tensorflow/examples/tutorials/mnist/input_data.py'>"
      ]
     },
     "execution_count": 3,
     "metadata": {
      "tags": []
     },
     "output_type": "execute_result"
    }
   ],
   "source": [
    "input_data"
   ]
  },
  {
   "cell_type": "code",
   "execution_count": 5,
   "metadata": {
    "colab": {
     "base_uri": "https://localhost:8080/",
     "height": 86
    },
    "colab_type": "code",
    "id": "skY784N9x5Ny",
    "outputId": "f95afd47-c248-405f-9b74-ceeb9591d363"
   },
   "outputs": [
    {
     "name": "stdout",
     "output_type": "stream",
     "text": [
      "Extracting MNIST_data/train-images-idx3-ubyte.gz\n",
      "Extracting MNIST_data/train-labels-idx1-ubyte.gz\n",
      "Extracting MNIST_data/t10k-images-idx3-ubyte.gz\n",
      "Extracting MNIST_data/t10k-labels-idx1-ubyte.gz\n"
     ]
    }
   ],
   "source": [
    "mnist=input_data.read_data_sets(\"MNIST_data/\",one_hot=True)"
   ]
  },
  {
   "cell_type": "code",
   "execution_count": 6,
   "metadata": {
    "colab": {
     "base_uri": "https://localhost:8080/",
     "height": 55
    },
    "colab_type": "code",
    "id": "lpJzwTYDx92C",
    "outputId": "3cac8725-3f95-4464-c810-7594dc62140e"
   },
   "outputs": [
    {
     "data": {
      "text/plain": [
       "Datasets(train=<tensorflow.contrib.learn.python.learn.datasets.mnist.DataSet object at 0x7ff35e62f438>, validation=<tensorflow.contrib.learn.python.learn.datasets.mnist.DataSet object at 0x7ff3571167f0>, test=<tensorflow.contrib.learn.python.learn.datasets.mnist.DataSet object at 0x7ff357116588>)"
      ]
     },
     "execution_count": 6,
     "metadata": {
      "tags": []
     },
     "output_type": "execute_result"
    }
   ],
   "source": [
    "mnist\n",
    "#This shows that mnist has a lot of data in it including training data , validation data and testing data"
   ]
  },
  {
   "cell_type": "code",
   "execution_count": 7,
   "metadata": {
    "colab": {
     "base_uri": "https://localhost:8080/",
     "height": 35
    },
    "colab_type": "code",
    "id": "Mf0IOIZSyB51",
    "outputId": "b5b73bcb-af37-4f53-9dfe-ba24da0b8447"
   },
   "outputs": [
    {
     "data": {
      "text/plain": [
       "((55000, 784), (10000, 784), (5000, 784))"
      ]
     },
     "execution_count": 7,
     "metadata": {
      "tags": []
     },
     "output_type": "execute_result"
    }
   ],
   "source": [
    "mnist.train.images.shape,mnist.test.images.shape,mnist.validation.images.shape"
   ]
  },
  {
   "cell_type": "code",
   "execution_count": 8,
   "metadata": {
    "colab": {
     "base_uri": "https://localhost:8080/",
     "height": 138
    },
    "colab_type": "code",
    "id": "9pCf_aAzyEYc",
    "outputId": "a4c9df30-6cba-433c-ce23-a6a84b43c0da"
   },
   "outputs": [
    {
     "data": {
      "text/plain": [
       "array([[0., 0., 0., ..., 1., 0., 0.],\n",
       "       [0., 0., 0., ..., 0., 0., 0.],\n",
       "       [0., 0., 0., ..., 0., 0., 0.],\n",
       "       ...,\n",
       "       [0., 0., 0., ..., 0., 0., 0.],\n",
       "       [0., 0., 0., ..., 0., 0., 0.],\n",
       "       [0., 0., 0., ..., 0., 1., 0.]])"
      ]
     },
     "execution_count": 8,
     "metadata": {
      "tags": []
     },
     "output_type": "execute_result"
    }
   ],
   "source": [
    "mnist.train.labels"
   ]
  },
  {
   "cell_type": "code",
   "execution_count": 9,
   "metadata": {
    "colab": {
     "base_uri": "https://localhost:8080/",
     "height": 35
    },
    "colab_type": "code",
    "id": "yEpH4GFvyF4J",
    "outputId": "28f735cd-8abc-4b44-8579-a30b55e1452a"
   },
   "outputs": [
    {
     "data": {
      "text/plain": [
       "(55000, 10)"
      ]
     },
     "execution_count": 9,
     "metadata": {
      "tags": []
     },
     "output_type": "execute_result"
    }
   ],
   "source": [
    "#Now we want out output class to be one hot encoded....this means that if the output of the first digit is 7 then the tuple\n",
    "#corresponding to it should be like [0,0,0,0,0,0,0,1,0,0] \n",
    "#for this while loading the data we pass one argument while loading the data as [one_hot=True].\n",
    "mnist.train.labels.shape\n",
    "#Now each label is a vector of size 10"
   ]
  },
  {
   "cell_type": "code",
   "execution_count": null,
   "metadata": {
    "colab": {},
    "colab_type": "code",
    "id": "V_twhcdmyHrn"
   },
   "outputs": [],
   "source": [
    "train_images=mnist.train.images.reshape(55000,28,28)"
   ]
  },
  {
   "cell_type": "code",
   "execution_count": 11,
   "metadata": {
    "colab": {
     "base_uri": "https://localhost:8080/",
     "height": 595
    },
    "colab_type": "code",
    "id": "11dO_zlcyJW_",
    "outputId": "4897faf8-7d2e-4acf-aa32-3ae1da9a0cba"
   },
   "outputs": [
    {
     "data": {
      "image/png": "[encoded data removed]",
      "text/plain": [
       "<Figure size 720x720 with 64 Axes>"
      ]
     },
     "metadata": {
      "tags": []
     },
     "output_type": "display_data"
    }
   ],
   "source": [
    "#Plotting images\n",
    "fig=plt.figure(figsize=(10,10))\n",
    "for i in range(64):\n",
    "    ax=fig.add_subplot(8,8,i+1)\n",
    "    ax.imshow(train_images[i])\n",
    "    \n",
    "plt.show()"
   ]
  },
  {
   "cell_type": "code",
   "execution_count": 12,
   "metadata": {
    "colab": {
     "base_uri": "https://localhost:8080/",
     "height": 1667
    },
    "colab_type": "code",
    "id": "Gzje_C-ZyK06",
    "outputId": "0f729cf7-aea9-4c44-d260-16b1b94e509d"
   },
   "outputs": [
    {
     "data": {
      "image/png": "[encoded data removed]",
      "text/plain": [
       "<Figure size 576x396 with 1 Axes>"
      ]
     },
     "metadata": {
      "tags": []
     },
     "output_type": "display_data"
    },
    {
     "data": {
      "image/png": "[encoded data removed]",
      "text/plain": [
       "<Figure size 576x396 with 1 Axes>"
      ]
     },
     "metadata": {
      "tags": []
     },
     "output_type": "display_data"
    },
    {
     "data": {
      "image/png": "[encoded data removed]",
      "text/plain": [
       "<Figure size 576x396 with 1 Axes>"
      ]
     },
     "metadata": {
      "tags": []
     },
     "output_type": "display_data"
    },
    {
     "data": {
      "image/png": "[encoded data removed]",
      "text/plain": [
       "<Figure size 576x396 with 1 Axes>"
      ]
     },
     "metadata": {
      "tags": []
     },
     "output_type": "display_data"
    },
    {
     "data": {
      "image/png": "[encoded data removed]",
      "text/plain": [
       "<Figure size 576x396 with 1 Axes>"
      ]
     },
     "metadata": {
      "tags": []
     },
     "output_type": "display_data"
    }
   ],
   "source": [
    "#An alternate method to display the first 5 images\n",
    "for i in range(5):\n",
    "    plt.imshow(train_images[i])\n",
    "    plt.show()"
   ]
  },
  {
   "cell_type": "code",
   "execution_count": 16,
   "metadata": {
    "colab": {
     "base_uri": "https://localhost:8080/",
     "height": 89
    },
    "colab_type": "code",
    "id": "lrR0oGPdyM1O",
    "outputId": "f299f2f0-14cf-4587-c257-16f258d24741"
   },
   "outputs": [
    {
     "name": "stdout",
     "output_type": "stream",
     "text": [
      "WARNING:tensorflow:From /usr/local/lib/python3.6/dist-packages/tensorflow/python/framework/op_def_library.py:263: colocate_with (from tensorflow.python.framework.ops) is deprecated and will be removed in a future version.\n",
      "Instructions for updating:\n",
      "Colocations handled automatically by placer.\n"
     ]
    }
   ],
   "source": [
    "#Now our neural metwork will have 784 units in the input layer and 10 units in the output layer \n",
    "#Let us take our NN to have 2 hidden layes with 256 units each\n",
    "n_input=784\n",
    "n_hidden_1=256\n",
    "n_hidden_2=256\n",
    "n_classes=10\n",
    "#Now we assume our weights and biases to be a dictionary with keys as the layers\n",
    "weights = {'h1': tf.Variable(tf.random_normal([n_input,n_hidden_1])),\n",
    "           'h2': tf.Variable(tf.random_normal([n_hidden_1,n_hidden_2])),\n",
    "           'out': tf.Variable(tf.random_normal([n_hidden_2,n_classes]))\n",
    "          }\n",
    "\n",
    "biases = {'h1': tf.Variable(tf.random_normal([n_hidden_1])),\n",
    "           'h2': tf.Variable(tf.random_normal([n_hidden_2])),\n",
    "           'out': tf.Variable(tf.random_normal([n_classes]))\n",
    "          }\n",
    "\n",
    "\n"
   ]
  },
  {
   "cell_type": "code",
   "execution_count": null,
   "metadata": {
    "colab": {},
    "colab_type": "code",
    "id": "ED6DDFgFydGP"
   },
   "outputs": [],
   "source": [
    "#For the forward propagation we will be using the 'relu' function as the activation function at the first layer\n",
    "#and second layer and no activation function is used at the output layer\n",
    "def forward_propagation(x,weights,biases):\n",
    "    input_layer1=tf.matmul(x,weights['h1'])+biases['h1']\n",
    "    output_layer1=tf.nn.relu(input_layer1)\n",
    "    \n",
    "    input_layer2=tf.matmul(output_layer1,weights['h2'])+biases['h2']\n",
    "    output_layer2=tf.nn.relu(input_layer2)\n",
    "    \n",
    "    input_output_layer=tf.matmul(output_layer2,weights['out'])+biases['out']\n",
    "    output_output_layer=input_output_layer\n",
    "    \n",
    "    return output_output_layer"
   ]
  },
  {
   "cell_type": "code",
   "execution_count": null,
   "metadata": {
    "colab": {},
    "colab_type": "code",
    "id": "3hEiJGn8yhcA"
   },
   "outputs": [],
   "source": [
    "#Now let us make predictions without optimising our code using random weights and biases\n",
    "#for predicting we will have to call the forward propagation function\n",
    "#Now our forward propagation code can accept testing as well as training data as parameters\n",
    "#So let us create x as a placeholder of shape (_ , n_input)\n",
    "#y will also be a palceholder of type integer as it has digits from 0-9 of shape (_ ,10)\n",
    "x=tf.placeholder('float',shape=(None,n_input))\n",
    "y=tf.placeholder(\"int32\",shape=(None,n_classes))\n",
    "pred=forward_propagation(x,weights,biases)\n",
    "\n",
    "\n",
    "\n"
   ]
  },
  {
   "cell_type": "code",
   "execution_count": null,
   "metadata": {
    "colab": {},
    "colab_type": "code",
    "id": "ug8AxKSkyko-"
   },
   "outputs": [],
   "source": [
    "#Now due to one hot encoding we need to predict the index of the maximum value obtained...hence we use the argmax function\n",
    "#which requires a parameter as the axis to find the index having maximum value\n",
    "predictions = tf.argmax(pred,1)\n",
    "true_labels = tf.argmax(y,1)\n",
    "correct_predictions=tf.equal(predictions,true_labels)"
   ]
  },
  {
   "cell_type": "code",
   "execution_count": 37,
   "metadata": {
    "colab": {
     "base_uri": "https://localhost:8080/",
     "height": 69
    },
    "colab_type": "code",
    "id": "MWmDDASkynJ4",
    "outputId": "163ee068-f51e-40d3-e07a-24b03ed5d285"
   },
   "outputs": [
    {
     "data": {
      "text/plain": [
       "(array([5, 5, 0, ..., 1, 5, 5]),\n",
       " array([7, 3, 4, ..., 5, 6, 8]),\n",
       " array([False, False, False, ..., False, False, False]))"
      ]
     },
     "execution_count": 37,
     "metadata": {
      "tags": []
     },
     "output_type": "execute_result"
    }
   ],
   "source": [
    "sess=tf.Session()\n",
    "sess.run(tf.global_variables_initializer())\n",
    "predictions_eval,labels,correct_pred = sess.run([predictions,true_labels,correct_predictions], feed_dict={x:mnist.train.images,y:mnist.train.labels})\n",
    "predictions_eval,labels,correct_pred\n",
    "\n"
   ]
  },
  {
   "cell_type": "code",
   "execution_count": 38,
   "metadata": {
    "colab": {
     "base_uri": "https://localhost:8080/",
     "height": 35
    },
    "colab_type": "code",
    "id": "VsY6Vs-OyuFR",
    "outputId": "6485e412-d83e-4bac-cb7a-c6f06ee030da"
   },
   "outputs": [
    {
     "data": {
      "text/plain": [
       "4826"
      ]
     },
     "execution_count": 38,
     "metadata": {
      "tags": []
     },
     "output_type": "execute_result"
    }
   ],
   "source": [
    "correct_pred.sum()\n",
    "#Adds no of occurences of True in the array."
   ]
  },
  {
   "cell_type": "code",
   "execution_count": null,
   "metadata": {
    "colab": {},
    "colab_type": "code",
    "id": "PTQ04y4azFUi"
   },
   "outputs": [],
   "source": [
    "#Now our next step is to find the cost and optimise it so that accuracy increases\n",
    "#This was done earlier by subtracting the gradients by back propagating .....\n",
    "#But in tensorflow we don't need to do all this by ourselves\n",
    "#We just need to find the cost and then use an inbuilt optimiser which will reduce our cost affecting the parameters on which cost depends\n",
    "#The cost function we will be using here is the cross entropy function\n",
    "cost = tf.reduce_mean(tf.nn.softmax_cross_entropy_with_logits(logits=pred,labels=y))"
   ]
  },
  {
   "cell_type": "code",
   "execution_count": null,
   "metadata": {
    "colab": {},
    "colab_type": "code",
    "id": "EsyJEAI028xN"
   },
   "outputs": [],
   "source": [
    "optimizer=tf.train.AdamOptimizer(learning_rate=0.01)\n",
    "optimize=optimizer.minimize(cost)"
   ]
  },
  {
   "cell_type": "code",
   "execution_count": null,
   "metadata": {
    "colab": {},
    "colab_type": "code",
    "id": "b05YHR6u60OQ"
   },
   "outputs": [],
   "source": [
    "sess.run(tf.global_variables_initializer())"
   ]
  },
  {
   "cell_type": "code",
   "execution_count": 51,
   "metadata": {
    "colab": {
     "base_uri": "https://localhost:8080/",
     "height": 449
    },
    "colab_type": "code",
    "id": "j7UjxDgk3LDA",
    "outputId": "0f95392f-9b67-4620-d22b-44a544f93f79"
   },
   "outputs": [
    {
     "name": "stdout",
     "output_type": "stream",
     "text": [
      "876.0357\n",
      "629.28217\n",
      "503.58246\n",
      "387.52386\n",
      "266.30014\n",
      "198.87537\n",
      "183.09225\n",
      "178.31342\n",
      "164.28882\n",
      "143.00288\n",
      "123.97927\n",
      "112.7308\n",
      "107.52065\n",
      "103.6829\n",
      "98.938034\n",
      "93.48791\n",
      "88.174416\n",
      "83.37424\n",
      "79.41372\n",
      "76.18596\n",
      "73.26803\n",
      "70.2208\n",
      "67.0356\n",
      "63.93369\n",
      "61.241016\n"
     ]
    }
   ],
   "source": [
    "\n",
    "for i in range(25):\n",
    "  c,_=sess.run([cost,optimize],feed_dict={x:mnist.train.images,y:mnist.train.labels})\n",
    "  print(c)"
   ]
  },
  {
   "cell_type": "code",
   "execution_count": 52,
   "metadata": {
    "colab": {
     "base_uri": "https://localhost:8080/",
     "height": 69
    },
    "colab_type": "code",
    "id": "UN0Wap2lypMk",
    "outputId": "99c6b273-7d0f-46d1-da3e-1e40867b63f4"
   },
   "outputs": [
    {
     "data": {
      "text/plain": [
       "(array([7, 3, 9, ..., 5, 6, 8]),\n",
       " array([7, 3, 4, ..., 5, 6, 8]),\n",
       " array([ True,  True, False, ...,  True,  True,  True]))"
      ]
     },
     "execution_count": 52,
     "metadata": {
      "tags": []
     },
     "output_type": "execute_result"
    }
   ],
   "source": [
    "predictions = tf.argmax(pred,1)\n",
    "true_labels = tf.argmax(y,1)\n",
    "correct_predictions=tf.equal(predictions,true_labels)\n",
    "predictions_eval,labels,correct_pred = sess.run([predictions,true_labels,correct_predictions], feed_dict={x:mnist.train.images,y:mnist.train.labels})\n",
    "predictions_eval,labels,correct_pred\n",
    "\n"
   ]
  },
  {
   "cell_type": "code",
   "execution_count": 53,
   "metadata": {
    "colab": {
     "base_uri": "https://localhost:8080/",
     "height": 35
    },
    "colab_type": "code",
    "id": "twZOp02ryT_B",
    "outputId": "0d739915-4ae3-4c39-883d-eb3af669a0a4"
   },
   "outputs": [
    {
     "data": {
      "text/plain": [
       "48007"
      ]
     },
     "execution_count": 53,
     "metadata": {
      "tags": []
     },
     "output_type": "execute_result"
    }
   ],
   "source": [
    "correct_pred.sum()"
   ]
  },
  {
   "cell_type": "code",
   "execution_count": 54,
   "metadata": {
    "colab": {
     "base_uri": "https://localhost:8080/",
     "height": 35
    },
    "colab_type": "code",
    "id": "cReOiINvx7RQ",
    "outputId": "4f96a4eb-69c1-4a1f-d05d-88ca902850af"
   },
   "outputs": [
    {
     "data": {
      "text/plain": [
       "0.8728545454545454"
      ]
     },
     "execution_count": 54,
     "metadata": {
      "tags": []
     },
     "output_type": "execute_result"
    }
   ],
   "source": [
    "#Accuracy obtained as there were 55000 images in training data\n",
    "48007/55000"
   ]
  },
  {
   "cell_type": "code",
   "execution_count": null,
   "metadata": {
    "colab": {},
    "colab_type": "code",
    "id": "TUmTPL3t9agB"
   },
   "outputs": [],
   "source": [
    "#Similarily we can see the results for testing data as well."
   ]
  }
 ],
 "metadata": {
  "accelerator": "GPU",
  "colab": {
   "collapsed_sections": [],
   "name": "Tensorflow_MNIST_NN.ipynb",
   "provenance": [],
   "version": "0.3.2"
  },
  "kernelspec": {
   "display_name": "Python 3",
   "language": "python",
   "name": "python3"
  },
  "language_info": {
   "codemirror_mode": {
    "name": "ipython",
    "version": 3
   },
   "file_extension": ".py",
   "mimetype": "text/x-python",
   "name": "python",
   "nbconvert_exporter": "python",
   "pygments_lexer": "ipython3",
   "version": "3.7.1"
  }
 },
 "nbformat": 4,
 "nbformat_minor": 2
}
